{
 "cells": [
  {
   "cell_type": "code",
   "execution_count": 1,
   "metadata": {},
   "outputs": [
    {
     "name": "stdout",
     "output_type": "stream",
     "text": [
      "512\n",
      "INFO:tensorflow:Restoring parameters from ./Data/model/best_model_new_new_two\n"
     ]
    },
    {
     "name": "stderr",
     "output_type": "stream",
     "text": [
      "100%|██████████| 11/11 [00:19<00:00,  1.73s/it]"
     ]
    },
    {
     "name": "stdout",
     "output_type": "stream",
     "text": [
      "Done in 27s!\n"
     ]
    },
    {
     "name": "stderr",
     "output_type": "stream",
     "text": [
      "\n"
     ]
    }
   ],
   "source": [
    "#!/usr/bin/env python\n",
    "# -*- coding: utf-8 -*-\n",
    "import cnn_bilstm_load_data \n",
    "import cnn_bilstm_text_cnn\n",
    "import codecs\n",
    "import cnn_bilstm_config as config\n",
    "from time import time\n",
    "import random\n",
    "from collections import Counter\n",
    "import numpy as np\n",
    "import tensorflow as tf\n",
    "\n",
    "def test():\n",
    "    word_weights, char_weights, tag_weights = cnn_bilstm_load_data.load_embedding()\n",
    "    word_voc, char_voc, tag_voc, label_voc = cnn_bilstm_load_data.load_voc()\n",
    "\n",
    "    # load data\n",
    "    sentences_test, chars_test, tags_test, labels_test = cnn_bilstm_load_data.init_data( config.TEST_PATH , word_voc, char_voc, tag_voc, label_voc)\n",
    "    # init model\n",
    "    print(len(labels_test))\n",
    "    model = cnn_bilstm_text_cnn.DCModel(\n",
    "        config.MAX_LEN, word_weights, char_weights, tag_weights, model_path = config.DIR_MODEL,\n",
    "        label_voc=label_voc)\n",
    "\n",
    "    saver = tf.train.Saver()\n",
    "    saver.restore(model.sess, config.DIR_MODEL)\n",
    "    \n",
    "    #p_test, r_test, f_test = model.evaluate(sentences_test, chars_test ,tags_test, labels_test)\n",
    "    #print('\\tp_test=%f, r_test=%f, f_test=%f' % (p_test, r_test, f_test))\n",
    "    pp_test,pp_proba = model.predict(sentences_test, chars_test ,tags_test)\n",
    "    return pp_test,pp_proba\n",
    "\n",
    "\n",
    "if __name__ == '__main__':\n",
    "    t0 = time()\n",
    "    # predict test data\n",
    "    test()\n",
    "    print('Done in %ds!' % (time()-t0))"
   ]
  },
  {
   "cell_type": "code",
   "execution_count": 3,
   "metadata": {},
   "outputs": [
    {
     "name": "stdout",
     "output_type": "stream",
     "text": [
      "512\n",
      "INFO:tensorflow:Restoring parameters from ./Data/model/best_model_new_new_two\n"
     ]
    },
    {
     "name": "stderr",
     "output_type": "stream",
     "text": [
      "100%|██████████| 11/11 [00:16<00:00,  1.52s/it]\n"
     ]
    }
   ],
   "source": [
    "one,two = test()"
   ]
  },
  {
   "cell_type": "code",
   "execution_count": null,
   "metadata": {},
   "outputs": [],
   "source": []
  },
  {
   "cell_type": "code",
   "execution_count": null,
   "metadata": {},
   "outputs": [],
   "source": [
    "with codecs.open('./Data/result/predict.csv', 'w', encoding='utf-8') as file_w:\n",
    "    file_w.write(\"max_label,label_0,label_1,label_2,label_3,lable_4,label_5,label_6\\n\")\n",
    "    for num, scores in enumerate(two):\n",
    "        file_w.write('%d,%f,%f,%f,%f,%f,%f,%f\\n' % (one[num], scores[0],scores[1],scores[2],scores[3],,scores[4],scores[5],scores[6]))"
   ]
  },
  {
   "cell_type": "code",
   "execution_count": 5,
   "metadata": {},
   "outputs": [
    {
     "data": {
      "text/plain": [
       "0.99999988754825608"
      ]
     },
     "execution_count": 5,
     "metadata": {},
     "output_type": "execute_result"
    }
   ],
   "source": [
    "sum(two[0])\n",
    "sum(two[1])"
   ]
  },
  {
   "cell_type": "code",
   "execution_count": 6,
   "metadata": {},
   "outputs": [
    {
     "data": {
      "text/plain": [
       "512"
      ]
     },
     "execution_count": 6,
     "metadata": {},
     "output_type": "execute_result"
    }
   ],
   "source": [
    "len( two)"
   ]
  },
  {
   "cell_type": "code",
   "execution_count": 11,
   "metadata": {},
   "outputs": [
    {
     "data": {
      "text/plain": [
       "array([ 0.26894143,  0.7310586 ], dtype=float32)"
      ]
     },
     "execution_count": 11,
     "metadata": {},
     "output_type": "execute_result"
    }
   ],
   "source": [
    "import tensorflow as tf\n",
    "sess = tf.InteractiveSession()\n",
    "tf.nn.softmax([1.0,2.0]).eval()"
   ]
  },
  {
   "cell_type": "code",
   "execution_count": 9,
   "metadata": {},
   "outputs": [
    {
     "data": {
      "text/plain": [
       "False"
      ]
     },
     "execution_count": 9,
     "metadata": {},
     "output_type": "execute_result"
    }
   ],
   "source": [
    "(3*1.0/2) == 3/2"
   ]
  },
  {
   "cell_type": "code",
   "execution_count": 10,
   "metadata": {},
   "outputs": [
    {
     "data": {
      "text/plain": [
       "True"
      ]
     },
     "execution_count": 10,
     "metadata": {},
     "output_type": "execute_result"
    }
   ],
   "source": [
    "(3/2) == 3/2"
   ]
  },
  {
   "cell_type": "code",
   "execution_count": null,
   "metadata": {},
   "outputs": [],
   "source": []
  }
 ],
 "metadata": {
  "anaconda-cloud": {},
  "kernelspec": {
   "display_name": "Python [Root]",
   "language": "python",
   "name": "Python [Root]"
  },
  "language_info": {
   "codemirror_mode": {
    "name": "ipython",
    "version": 2
   },
   "file_extension": ".py",
   "mimetype": "text/x-python",
   "name": "python",
   "nbconvert_exporter": "python",
   "pygments_lexer": "ipython2",
   "version": "2.7.12"
  }
 },
 "nbformat": 4,
 "nbformat_minor": 2
}
